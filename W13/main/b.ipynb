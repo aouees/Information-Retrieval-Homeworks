{
 "cells": [
  {
   "attachments": {},
   "cell_type": "markdown",
   "metadata": {},
   "source": [
    "<div  style=\"display: table; width: 100%; color: #034ea2; background:#ffffff ; line-height: 100px;  text-align: center;\" dir=\"rtl\">\n",
    "        <h2 style=\"display:table-cell;\">جامعة القلمون  </h2>\n",
    "        <h1 style=\"display:table-cell;\"> <b>👨‍💻 اويس الحمود 👨‍💻</b></h1>\n",
    "        <h2 style=\"display:table-cell;\">201811330</h2>\n",
    "    </div>"
   ]
  },
  {
   "cell_type": "code",
   "execution_count": 1,
   "metadata": {},
   "outputs": [],
   "source": [
    "import pandas as pd\n",
    "import re\n",
    "import snowballstemmer \n",
    "import arabicstopwords.arabicstopwords as stp\n",
    "import os\n"
   ]
  },
  {
   "cell_type": "code",
   "execution_count": 2,
   "metadata": {},
   "outputs": [],
   "source": [
    "def remove_stopWords(sentence):\n",
    "    terms=[]\n",
    "    stopWords= set(stp.stopwords_list())\n",
    "    for term in sentence.split() : \n",
    "        if term not in stopWords :\n",
    "            terms.append(term)\n",
    "    return \" \".join(terms)"
   ]
  },
  {
   "cell_type": "code",
   "execution_count": 3,
   "metadata": {},
   "outputs": [],
   "source": [
    "def normalize(text):\n",
    "    text = re.sub(\"[إأٱآا]\", \"ا\", text)\n",
    "    text = re.sub(\"ى\", \"ي\", text)\n",
    "    text = re.sub(\"ؤ\", \"ء\", text)\n",
    "    text = re.sub(\"ئ\", \"ء\", text)\n",
    "    text = re.sub(\"ة\", \"ه\", text)\n",
    "    return(text)"
   ]
  },
  {
   "cell_type": "code",
   "execution_count": 4,
   "metadata": {},
   "outputs": [],
   "source": [
    "ar_stemmer = snowballstemmer.stemmer('arabic')\n",
    "def stem(sentence):\n",
    "    return \" \".join([ar_stemmer.stemWord(i) for i in sentence.split()])"
   ]
  },
  {
   "cell_type": "code",
   "execution_count": 5,
   "metadata": {},
   "outputs": [],
   "source": [
    "def preProcessing(text):\n",
    "    return stem(normalize(remove_stopWords(text)))"
   ]
  },
  {
   "cell_type": "code",
   "execution_count": 6,
   "metadata": {},
   "outputs": [
    {
     "data": {
      "text/html": [
       "<div>\n",
       "<style scoped>\n",
       "    .dataframe tbody tr th:only-of-type {\n",
       "        vertical-align: middle;\n",
       "    }\n",
       "\n",
       "    .dataframe tbody tr th {\n",
       "        vertical-align: top;\n",
       "    }\n",
       "\n",
       "    .dataframe thead th {\n",
       "        text-align: right;\n",
       "    }\n",
       "</style>\n",
       "<table border=\"1\" class=\"dataframe\">\n",
       "  <thead>\n",
       "    <tr style=\"text-align: right;\">\n",
       "      <th></th>\n",
       "      <th>docno</th>\n",
       "      <th>raw_text</th>\n",
       "    </tr>\n",
       "  </thead>\n",
       "  <tbody>\n",
       "    <tr>\n",
       "      <th>0</th>\n",
       "      <td>d1</td>\n",
       "      <td>هذه هي المحاضرة الثانية من مقرر نظم استرجاع المعلومات</td>\n",
       "    </tr>\n",
       "    <tr>\n",
       "      <th>1</th>\n",
       "      <td>d2</td>\n",
       "      <td>المحاضرة باللغة العربية لطلاب جامعة القلمون</td>\n",
       "    </tr>\n",
       "    <tr>\n",
       "      <th>2</th>\n",
       "      <td>d3</td>\n",
       "      <td>كان الجو غائماً جزئياً</td>\n",
       "    </tr>\n",
       "    <tr>\n",
       "      <th>3</th>\n",
       "      <td>d4</td>\n",
       "      <td>نأمل أن تفيد هذا المقرر طلاب جامعة القلومن</td>\n",
       "    </tr>\n",
       "    <tr>\n",
       "      <th>4</th>\n",
       "      <td>d5</td>\n",
       "      <td>هل أنتم سعداء بهذه التجربة</td>\n",
       "    </tr>\n",
       "  </tbody>\n",
       "</table>\n",
       "</div>"
      ],
      "text/plain": [
       "  docno                                               raw_text\n",
       "0    d1  هذه هي المحاضرة الثانية من مقرر نظم استرجاع المعلومات\n",
       "1    d2            المحاضرة باللغة العربية لطلاب جامعة القلمون\n",
       "2    d3                                 كان الجو غائماً جزئياً\n",
       "3    d4             نأمل أن تفيد هذا المقرر طلاب جامعة القلومن\n",
       "4    d5                             هل أنتم سعداء بهذه التجربة"
      ]
     },
     "execution_count": 6,
     "metadata": {},
     "output_type": "execute_result"
    }
   ],
   "source": [
    "i=0\n",
    "docs_df = pd.DataFrame(columns=[\"docno\", \"raw_text\"])\n",
    "for filename in os.listdir(\"..\\\\mydata\"):\n",
    "    i+=1 \n",
    "    filepath = os.path.join(\"..\\\\mydata\", filename) \n",
    "    with open(filepath, \"r\") as file: \n",
    "        data = file.read()\n",
    "    docs_df.loc[len(docs_df)]=[f'd{i}',data]\n",
    "         \n",
    "pd.set_option('display.max_colwidth',150)\n",
    "docs_df.head()"
   ]
  },
  {
   "cell_type": "code",
   "execution_count": 7,
   "metadata": {},
   "outputs": [
    {
     "data": {
      "text/html": [
       "<div>\n",
       "<style scoped>\n",
       "    .dataframe tbody tr th:only-of-type {\n",
       "        vertical-align: middle;\n",
       "    }\n",
       "\n",
       "    .dataframe tbody tr th {\n",
       "        vertical-align: top;\n",
       "    }\n",
       "\n",
       "    .dataframe thead th {\n",
       "        text-align: right;\n",
       "    }\n",
       "</style>\n",
       "<table border=\"1\" class=\"dataframe\">\n",
       "  <thead>\n",
       "    <tr style=\"text-align: right;\">\n",
       "      <th></th>\n",
       "      <th>docno</th>\n",
       "      <th>raw_text</th>\n",
       "      <th>text</th>\n",
       "    </tr>\n",
       "  </thead>\n",
       "  <tbody>\n",
       "    <tr>\n",
       "      <th>0</th>\n",
       "      <td>d1</td>\n",
       "      <td>هذه هي المحاضرة الثانية من مقرر نظم استرجاع المعلومات</td>\n",
       "      <td>محاضره ثانيه مقرر نظم استرجاع معلوم</td>\n",
       "    </tr>\n",
       "    <tr>\n",
       "      <th>1</th>\n",
       "      <td>d2</td>\n",
       "      <td>المحاضرة باللغة العربية لطلاب جامعة القلمون</td>\n",
       "      <td>محاضره لغه عربيه لطلاب جامع قلم</td>\n",
       "    </tr>\n",
       "    <tr>\n",
       "      <th>2</th>\n",
       "      <td>d3</td>\n",
       "      <td>كان الجو غائماً جزئياً</td>\n",
       "      <td>الجو غاءم جزءي</td>\n",
       "    </tr>\n",
       "    <tr>\n",
       "      <th>3</th>\n",
       "      <td>d4</td>\n",
       "      <td>نأمل أن تفيد هذا المقرر طلاب جامعة القلومن</td>\n",
       "      <td>نامل تفيد مقرر طلاب جامع قلوم</td>\n",
       "    </tr>\n",
       "    <tr>\n",
       "      <th>4</th>\n",
       "      <td>d5</td>\n",
       "      <td>هل أنتم سعداء بهذه التجربة</td>\n",
       "      <td>سعداء تجربه</td>\n",
       "    </tr>\n",
       "  </tbody>\n",
       "</table>\n",
       "</div>"
      ],
      "text/plain": [
       "  docno                                               raw_text  \\\n",
       "0    d1  هذه هي المحاضرة الثانية من مقرر نظم استرجاع المعلومات   \n",
       "1    d2            المحاضرة باللغة العربية لطلاب جامعة القلمون   \n",
       "2    d3                                 كان الجو غائماً جزئياً   \n",
       "3    d4             نأمل أن تفيد هذا المقرر طلاب جامعة القلومن   \n",
       "4    d5                             هل أنتم سعداء بهذه التجربة   \n",
       "\n",
       "                                  text  \n",
       "0  محاضره ثانيه مقرر نظم استرجاع معلوم  \n",
       "1      محاضره لغه عربيه لطلاب جامع قلم  \n",
       "2                       الجو غاءم جزءي  \n",
       "3        نامل تفيد مقرر طلاب جامع قلوم  \n",
       "4                          سعداء تجربه  "
      ]
     },
     "execution_count": 7,
     "metadata": {},
     "output_type": "execute_result"
    }
   ],
   "source": [
    "docs_df['text']=docs_df['raw_text'].apply(preProcessing)\n",
    "docs_df.head()"
   ]
  },
  {
   "cell_type": "code",
   "execution_count": 16,
   "metadata": {},
   "outputs": [
    {
     "data": {
      "text/plain": [
       "['محاضره',\n",
       " 'ثانيه',\n",
       " 'مقرر',\n",
       " 'نظم',\n",
       " 'استرجاع',\n",
       " 'معلوم',\n",
       " 'محاضره',\n",
       " 'لغه',\n",
       " 'عربيه',\n",
       " 'لطلاب',\n",
       " 'جامع',\n",
       " 'قلم',\n",
       " 'الجو',\n",
       " 'غاءم',\n",
       " 'جزءي',\n",
       " 'نامل',\n",
       " 'تفيد',\n",
       " 'مقرر',\n",
       " 'طلاب',\n",
       " 'جامع',\n",
       " 'قلوم',\n",
       " 'سعداء',\n",
       " 'تجربه']"
      ]
     },
     "execution_count": 16,
     "metadata": {},
     "output_type": "execute_result"
    }
   ],
   "source": [
    "terms=[]\n",
    "for doc in docs_df['text']:\n",
    "    for term in doc.split():\n",
    "        terms.append(term)\n",
    "terms"
   ]
  },
  {
   "cell_type": "code",
   "execution_count": 17,
   "metadata": {},
   "outputs": [
    {
     "data": {
      "text/plain": [
       "['محاضره',\n",
       " 'ثانيه',\n",
       " 'مقرر',\n",
       " 'نظم',\n",
       " 'استرجاع',\n",
       " 'معلوم',\n",
       " 'لغه',\n",
       " 'عربيه',\n",
       " 'لطلاب',\n",
       " 'جامع',\n",
       " 'قلم',\n",
       " 'الجو',\n",
       " 'غاءم',\n",
       " 'جزءي',\n",
       " 'نامل',\n",
       " 'تفيد',\n",
       " 'طلاب',\n",
       " 'قلوم',\n",
       " 'سعداء',\n",
       " 'تجربه']"
      ]
     },
     "execution_count": 17,
     "metadata": {},
     "output_type": "execute_result"
    }
   ],
   "source": [
    "unique_terms=[]\n",
    "for d in terms :\n",
    "    if d not in unique_terms:\n",
    "        unique_terms.append(d)\n",
    "unique_terms"
   ]
  },
  {
   "cell_type": "code",
   "execution_count": 30,
   "metadata": {},
   "outputs": [
    {
     "data": {
      "text/plain": [
       "{'محاضره': ['d1', 'd1', 'd2', 'd2'],\n",
       " 'ثانيه': ['d1'],\n",
       " 'مقرر': ['d1', 'd1', 'd4', 'd4'],\n",
       " 'نظم': ['d1'],\n",
       " 'استرجاع': ['d1'],\n",
       " 'معلوم': ['d1'],\n",
       " 'لغه': ['d2'],\n",
       " 'عربيه': ['d2'],\n",
       " 'لطلاب': ['d2'],\n",
       " 'جامع': ['d2', 'd2', 'd4', 'd4'],\n",
       " 'قلم': ['d2'],\n",
       " 'الجو': ['d3'],\n",
       " 'غاءم': ['d3'],\n",
       " 'جزءي': ['d3'],\n",
       " 'نامل': ['d4'],\n",
       " 'تفيد': ['d4'],\n",
       " 'طلاب': ['d2', 'd4'],\n",
       " 'قلوم': ['d4'],\n",
       " 'سعداء': ['d5'],\n",
       " 'تجربه': ['d5']}"
      ]
     },
     "execution_count": 30,
     "metadata": {},
     "output_type": "execute_result"
    }
   ],
   "source": [
    "index={}\n",
    "for i, doc in enumerate(docs_df['text']):\n",
    "    for t in terms:\n",
    "        if t not in index:\n",
    "            index[t] = []\n",
    "        if(t in doc):\n",
    "            index[t].append(docs_df.loc[i,'docno'])\n",
    "index"
   ]
  },
  {
   "cell_type": "code",
   "execution_count": 31,
   "metadata": {},
   "outputs": [],
   "source": [
    "boolean_operators = {'AND', 'OR'}\n",
    "def boolean_operator_processing(bool_operator,prevV,nextV):\n",
    "    if bool_operator == \"AND\":\n",
    "        return set(prevV)&set(nextV)\n",
    "    elif bool_operator==\"OR\" :\n",
    "        return set(prevV)|set(nextV)"
   ]
  },
  {
   "cell_type": "code",
   "execution_count": 34,
   "metadata": {},
   "outputs": [
    {
     "data": {
      "text/plain": [
       "{'d1', 'd2', 'd4'}"
      ]
     },
     "execution_count": 34,
     "metadata": {},
     "output_type": "execute_result"
    }
   ],
   "source": [
    "q='المحاضرة OR جامعة'\n",
    "q=preProcessing(q)\n",
    "q=q.split()\n",
    "v=index[q[0]]\n",
    "u=index[q[2]]\n",
    "boolean_operator_processing(q[1],v,u)\n"
   ]
  },
  {
   "cell_type": "code",
   "execution_count": null,
   "metadata": {},
   "outputs": [],
   "source": []
  }
 ],
 "metadata": {
  "kernelspec": {
   "display_name": "base",
   "language": "python",
   "name": "python3"
  },
  "language_info": {
   "codemirror_mode": {
    "name": "ipython",
    "version": 3
   },
   "file_extension": ".py",
   "mimetype": "text/x-python",
   "name": "python",
   "nbconvert_exporter": "python",
   "pygments_lexer": "ipython3",
   "version": "3.9.12"
  },
  "orig_nbformat": 4
 },
 "nbformat": 4,
 "nbformat_minor": 2
}
