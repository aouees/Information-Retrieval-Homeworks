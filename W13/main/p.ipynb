{
 "cells": [
  {
   "attachments": {},
   "cell_type": "markdown",
   "metadata": {},
   "source": [
    "<div  style=\"display: table; width: 100%; color: #034ea2; background:#ffffff ; line-height: 100px;  text-align: center;\" dir=\"rtl\">\n",
    "        <h2 style=\"display:table-cell;\">جامعة القلمون  </h2>\n",
    "        <h1 style=\"display:table-cell;\"> <b>👨‍💻 اويس الحمود 👨‍💻</b></h1>\n",
    "        <h2 style=\"display:table-cell;\">201811330</h2>\n",
    "    </div>"
   ]
  },
  {
   "attachments": {},
   "cell_type": "markdown",
   "metadata": {},
   "source": [
    "we need to import the following libraries."
   ]
  },
  {
   "cell_type": "code",
   "execution_count": 87,
   "metadata": {
    "id": "q1hOiytg8cRo"
   },
   "outputs": [],
   "source": [
    "import pandas as pd\n",
    "import re\n",
    "import snowballstemmer \n",
    "import arabicstopwords.arabicstopwords as stp\n",
    "import os\n",
    "import pyterrier as pt\n"
   ]
  },
  {
   "attachments": {},
   "cell_type": "markdown",
   "metadata": {},
   "source": [
    "removing Stop Words function"
   ]
  },
  {
   "cell_type": "code",
   "execution_count": 88,
   "metadata": {
    "colab": {
     "base_uri": "https://localhost:8080/",
     "height": 244
    },
    "id": "ugfDcjpe8m3L",
    "outputId": "e4dec3fc-2de9-4253-fd93-eb5c379565e0"
   },
   "outputs": [],
   "source": [
    "def remove_stopWords(sentence):\n",
    "    terms=[]\n",
    "    stopWords= set(stp.stopwords_list())\n",
    "    for term in sentence.split() : \n",
    "        if term not in stopWords :\n",
    "            terms.append(term)\n",
    "    return \" \".join(terms)"
   ]
  },
  {
   "attachments": {},
   "cell_type": "markdown",
   "metadata": {},
   "source": [
    "a function to normalize the tweets"
   ]
  },
  {
   "cell_type": "code",
   "execution_count": 89,
   "metadata": {
    "colab": {
     "base_uri": "https://localhost:8080/",
     "height": 244
    },
    "id": "m3TOg2TB8uPg",
    "outputId": "491f307b-248b-4616-bcde-cca30c431173"
   },
   "outputs": [],
   "source": [
    "def normalize(text):\n",
    "    text = re.sub(\"[إأٱآا]\", \"ا\", text)\n",
    "    text = re.sub(\"ى\", \"ي\", text)\n",
    "    text = re.sub(\"ؤ\", \"ء\", text)\n",
    "    text = re.sub(\"ئ\", \"ء\", text)\n",
    "    text = re.sub(\"ة\", \"ه\", text)\n",
    "    return(text)"
   ]
  },
  {
   "attachments": {},
   "cell_type": "markdown",
   "metadata": {},
   "source": [
    "specify that we want to stem arabic text ,\n",
    "define the stemming function\n"
   ]
  },
  {
   "cell_type": "code",
   "execution_count": 90,
   "metadata": {
    "colab": {
     "base_uri": "https://localhost:8080/",
     "height": 244
    },
    "id": "AwU43Hor8xup",
    "outputId": "384cb3c9-8a23-427b-8447-ba2b93033eca"
   },
   "outputs": [],
   "source": [
    "ar_stemmer = snowballstemmer.stemmer('arabic')\n",
    "def stem(sentence):\n",
    "    return \" \".join([ar_stemmer.stemWord(i) for i in sentence.split()])"
   ]
  },
  {
   "attachments": {},
   "cell_type": "markdown",
   "metadata": {},
   "source": [
    "define preProcessing func "
   ]
  },
  {
   "cell_type": "code",
   "execution_count": 91,
   "metadata": {},
   "outputs": [],
   "source": [
    "def preProcessing(text):\n",
    "    return stem(normalize(remove_stopWords(text)))"
   ]
  },
  {
   "attachments": {},
   "cell_type": "markdown",
   "metadata": {},
   "source": [
    "init pyterrier"
   ]
  },
  {
   "cell_type": "code",
   "execution_count": 92,
   "metadata": {
    "id": "Sc4Fgeaz9aWe"
   },
   "outputs": [],
   "source": [
    "j_h=os.environ.get('JAVA_HOME',None)\n",
    "if not j_h:\n",
    "    os.environ['JAVA_HOME']='C:\\\\Program Files\\\\Java\\\\jdk-20\\\\bin'\n",
    "if not pt.started():\n",
    "    pt.init()"
   ]
  },
  {
   "attachments": {},
   "cell_type": "markdown",
   "metadata": {},
   "source": [
    "read data from file is mydata folder"
   ]
  },
  {
   "cell_type": "code",
   "execution_count": 93,
   "metadata": {},
   "outputs": [
    {
     "data": {
      "text/html": [
       "<div>\n",
       "<style scoped>\n",
       "    .dataframe tbody tr th:only-of-type {\n",
       "        vertical-align: middle;\n",
       "    }\n",
       "\n",
       "    .dataframe tbody tr th {\n",
       "        vertical-align: top;\n",
       "    }\n",
       "\n",
       "    .dataframe thead th {\n",
       "        text-align: right;\n",
       "    }\n",
       "</style>\n",
       "<table border=\"1\" class=\"dataframe\">\n",
       "  <thead>\n",
       "    <tr style=\"text-align: right;\">\n",
       "      <th></th>\n",
       "      <th>docno</th>\n",
       "      <th>raw_text</th>\n",
       "    </tr>\n",
       "  </thead>\n",
       "  <tbody>\n",
       "    <tr>\n",
       "      <th>0</th>\n",
       "      <td>d1</td>\n",
       "      <td>هذه هي المحاضرة الثانية من مقرر نظم استرجاع المعلومات</td>\n",
       "    </tr>\n",
       "    <tr>\n",
       "      <th>1</th>\n",
       "      <td>d2</td>\n",
       "      <td>المحاضرة باللغة العربية لطلاب جامعة القلمون</td>\n",
       "    </tr>\n",
       "    <tr>\n",
       "      <th>2</th>\n",
       "      <td>d3</td>\n",
       "      <td>كان الجو غائماً جزئياً</td>\n",
       "    </tr>\n",
       "    <tr>\n",
       "      <th>3</th>\n",
       "      <td>d4</td>\n",
       "      <td>نأمل أن تفيد هذا المقرر طلاب جامعة القلومن</td>\n",
       "    </tr>\n",
       "    <tr>\n",
       "      <th>4</th>\n",
       "      <td>d5</td>\n",
       "      <td>هل أنتم سعداء بهذه التجربة</td>\n",
       "    </tr>\n",
       "  </tbody>\n",
       "</table>\n",
       "</div>"
      ],
      "text/plain": [
       "  docno                                               raw_text\n",
       "0    d1  هذه هي المحاضرة الثانية من مقرر نظم استرجاع المعلومات\n",
       "1    d2            المحاضرة باللغة العربية لطلاب جامعة القلمون\n",
       "2    d3                                 كان الجو غائماً جزئياً\n",
       "3    d4             نأمل أن تفيد هذا المقرر طلاب جامعة القلومن\n",
       "4    d5                             هل أنتم سعداء بهذه التجربة"
      ]
     },
     "execution_count": 93,
     "metadata": {},
     "output_type": "execute_result"
    }
   ],
   "source": [
    "i=0\n",
    "docs_df = pd.DataFrame(columns=[\"docno\", \"raw_text\"])\n",
    "for filename in os.listdir(\"..\\\\mydata\"):\n",
    "    i+=1 \n",
    "    filepath = os.path.join(\"..\\\\mydata\", filename) \n",
    "    with open(filepath, \"r\") as file: \n",
    "        data = file.read()\n",
    "    docs_df.loc[len(docs_df)]=[f'd{i}',data]\n",
    "         \n",
    "pd.set_option('display.max_colwidth',150)\n",
    "docs_df.head()"
   ]
  },
  {
   "attachments": {},
   "cell_type": "markdown",
   "metadata": {},
   "source": [
    "preProcessing for collection "
   ]
  },
  {
   "cell_type": "code",
   "execution_count": 94,
   "metadata": {},
   "outputs": [
    {
     "data": {
      "text/html": [
       "<div>\n",
       "<style scoped>\n",
       "    .dataframe tbody tr th:only-of-type {\n",
       "        vertical-align: middle;\n",
       "    }\n",
       "\n",
       "    .dataframe tbody tr th {\n",
       "        vertical-align: top;\n",
       "    }\n",
       "\n",
       "    .dataframe thead th {\n",
       "        text-align: right;\n",
       "    }\n",
       "</style>\n",
       "<table border=\"1\" class=\"dataframe\">\n",
       "  <thead>\n",
       "    <tr style=\"text-align: right;\">\n",
       "      <th></th>\n",
       "      <th>docno</th>\n",
       "      <th>raw_text</th>\n",
       "      <th>text</th>\n",
       "    </tr>\n",
       "  </thead>\n",
       "  <tbody>\n",
       "    <tr>\n",
       "      <th>0</th>\n",
       "      <td>d1</td>\n",
       "      <td>هذه هي المحاضرة الثانية من مقرر نظم استرجاع المعلومات</td>\n",
       "      <td>محاضره ثانيه مقرر نظم استرجاع معلوم</td>\n",
       "    </tr>\n",
       "    <tr>\n",
       "      <th>1</th>\n",
       "      <td>d2</td>\n",
       "      <td>المحاضرة باللغة العربية لطلاب جامعة القلمون</td>\n",
       "      <td>محاضره لغه عربيه لطلاب جامع قلم</td>\n",
       "    </tr>\n",
       "    <tr>\n",
       "      <th>2</th>\n",
       "      <td>d3</td>\n",
       "      <td>كان الجو غائماً جزئياً</td>\n",
       "      <td>الجو غاءم جزءي</td>\n",
       "    </tr>\n",
       "    <tr>\n",
       "      <th>3</th>\n",
       "      <td>d4</td>\n",
       "      <td>نأمل أن تفيد هذا المقرر طلاب جامعة القلومن</td>\n",
       "      <td>نامل تفيد مقرر طلاب جامع قلوم</td>\n",
       "    </tr>\n",
       "    <tr>\n",
       "      <th>4</th>\n",
       "      <td>d5</td>\n",
       "      <td>هل أنتم سعداء بهذه التجربة</td>\n",
       "      <td>سعداء تجربه</td>\n",
       "    </tr>\n",
       "  </tbody>\n",
       "</table>\n",
       "</div>"
      ],
      "text/plain": [
       "  docno                                               raw_text  \\\n",
       "0    d1  هذه هي المحاضرة الثانية من مقرر نظم استرجاع المعلومات   \n",
       "1    d2            المحاضرة باللغة العربية لطلاب جامعة القلمون   \n",
       "2    d3                                 كان الجو غائماً جزئياً   \n",
       "3    d4             نأمل أن تفيد هذا المقرر طلاب جامعة القلومن   \n",
       "4    d5                             هل أنتم سعداء بهذه التجربة   \n",
       "\n",
       "                                  text  \n",
       "0  محاضره ثانيه مقرر نظم استرجاع معلوم  \n",
       "1      محاضره لغه عربيه لطلاب جامع قلم  \n",
       "2                       الجو غاءم جزءي  \n",
       "3        نامل تفيد مقرر طلاب جامع قلوم  \n",
       "4                          سعداء تجربه  "
      ]
     },
     "execution_count": 94,
     "metadata": {},
     "output_type": "execute_result"
    }
   ],
   "source": [
    "docs_df['text']=docs_df['raw_text'].apply(preProcessing)\n",
    "docs_df.head()"
   ]
  },
  {
   "cell_type": "code",
   "execution_count": 95,
   "metadata": {
    "colab": {
     "base_uri": "https://localhost:8080/"
    },
    "id": "3vWdd3DY9NSw",
    "outputId": "02a91aba-e7d2-4ac2-fbfc-623ea8efa573"
   },
   "outputs": [
    {
     "name": "stderr",
     "output_type": "stream",
     "text": [
      "C:\\Users\\new laptop\\AppData\\Local\\Temp\\ipykernel_17412\\3834369858.py:3: DeprecationWarning: Setting of tokeniser property directly is deprecated\n",
      "  index_ref = indexer.index(docs_df[\"text\"], docs_df[\"docno\"])\n"
     ]
    },
    {
     "name": "stdout",
     "output_type": "stream",
     "text": [
      "16:50:14.184 [main] ERROR org.terrier.structures.indexing.Indexer - Could not rename index\n",
      "java.io.IOException: Rename of index structure file '..\\ll1/data_1.direct.bf' (exists) to '..\\ll1/data.direct.bf' (exists) failed - likely that source file is still open. Possible indexing bug?\n",
      "\tat org.terrier.structures.IndexUtil.renameIndex(IndexUtil.java:379)\n",
      "\tat org.terrier.structures.indexing.Indexer.index(Indexer.java:388)\n",
      "\tat org.terrier.structures.indexing.Indexer.index(Indexer.java:355)\n"
     ]
    }
   ],
   "source": [
    "indexer = pt.DFIndexer(\"..\\\\ll1\",overwrite=True)\n",
    "indexer.setProperty(\"tokeniser\", \"UTFTokeniser\")\n",
    "index_ref = indexer.index(docs_df[\"text\"], docs_df[\"docno\"])\n"
   ]
  },
  {
   "cell_type": "code",
   "execution_count": 96,
   "metadata": {
    "colab": {
     "base_uri": "https://localhost:8080/"
    },
    "id": "AWsHbWX8yLpK",
    "outputId": "72ebbde1-95a4-4783-9f3d-2990e216041b"
   },
   "outputs": [
    {
     "name": "stdout",
     "output_type": "stream",
     "text": [
      "..\\ll1/data.properties\n",
      "Number of documents: 5\n",
      "Number of terms: 20\n",
      "Number of postings: 23\n",
      "Number of fields: 0\n",
      "Number of tokens: 23\n",
      "Field names: []\n",
      "Positions:   false\n",
      "\n"
     ]
    }
   ],
   "source": [
    "print(index_ref.toString())\n",
    "index = pt.IndexFactory.of(index_ref)\n",
    "print(index.getCollectionStatistics().toString())"
   ]
  },
  {
   "cell_type": "code",
   "execution_count": 97,
   "metadata": {
    "colab": {
     "base_uri": "https://localhost:8080/"
    },
    "id": "9FbNN_BYx8Je",
    "outputId": "033438fb-5a07-4a2e-af00-a28950dffb49"
   },
   "outputs": [
    {
     "name": "stdout",
     "output_type": "stream",
     "text": [
      "استرجاع -> term0 Nt=1 TF=1 maxTF=1 @{0 0 0} \n",
      "الجو -> term12 Nt=1 TF=1 maxTF=1 @{0 0 2} \n",
      "تجربه -> term19 Nt=1 TF=1 maxTF=1 @{0 0 6} \n",
      "تفيد -> term17 Nt=1 TF=1 maxTF=1 @{0 1 4} \n",
      "ثانيه -> term4 Nt=1 TF=1 maxTF=1 @{0 2 2} \n",
      "جامع -> term8 Nt=2 TF=2 maxTF=1 @{0 2 4} \n",
      "جزءي -> term11 Nt=1 TF=1 maxTF=1 @{0 3 4} \n",
      "سعداء -> term18 Nt=1 TF=1 maxTF=1 @{0 4 0} \n",
      "طلاب -> term15 Nt=1 TF=1 maxTF=1 @{0 4 6} \n",
      "عربيه -> term7 Nt=1 TF=1 maxTF=1 @{0 5 4} \n",
      "غاءم -> term13 Nt=1 TF=1 maxTF=1 @{0 6 0} \n",
      "قلم -> term9 Nt=1 TF=1 maxTF=1 @{0 6 4} \n",
      "قلوم -> term16 Nt=1 TF=1 maxTF=1 @{0 7 0} \n",
      "لطلاب -> term10 Nt=1 TF=1 maxTF=1 @{0 7 6} \n",
      "لغه -> term6 Nt=1 TF=1 maxTF=1 @{0 8 2} \n",
      "محاضره -> term3 Nt=2 TF=2 maxTF=1 @{0 8 6} \n",
      "معلوم -> term5 Nt=1 TF=1 maxTF=1 @{0 9 2} \n",
      "مقرر -> term2 Nt=2 TF=2 maxTF=1 @{0 9 4} \n",
      "نامل -> term14 Nt=1 TF=1 maxTF=1 @{0 10 2} \n",
      "نظم -> term1 Nt=1 TF=1 maxTF=1 @{0 11 0} \n"
     ]
    }
   ],
   "source": [
    "for kv in index.getLexicon():\n",
    "  print(\"%s -> %s \" % (kv.getKey(), kv.getValue().toString())) "
   ]
  },
  {
   "cell_type": "code",
   "execution_count": 105,
   "metadata": {
    "colab": {
     "base_uri": "https://localhost:8080/",
     "height": 35
    },
    "id": "hojeyaOPy9uH",
    "outputId": "34081df3-fefb-404f-a921-d6b214c1bcd7"
   },
   "outputs": [
    {
     "data": {
      "text/html": [
       "<div>\n",
       "<style scoped>\n",
       "    .dataframe tbody tr th:only-of-type {\n",
       "        vertical-align: middle;\n",
       "    }\n",
       "\n",
       "    .dataframe tbody tr th {\n",
       "        vertical-align: top;\n",
       "    }\n",
       "\n",
       "    .dataframe thead th {\n",
       "        text-align: right;\n",
       "    }\n",
       "</style>\n",
       "<table border=\"1\" class=\"dataframe\">\n",
       "  <thead>\n",
       "    <tr style=\"text-align: right;\">\n",
       "      <th></th>\n",
       "      <th>query</th>\n",
       "      <th>docno</th>\n",
       "    </tr>\n",
       "  </thead>\n",
       "  <tbody>\n",
       "    <tr>\n",
       "      <th>0</th>\n",
       "      <td>محاضره جامع</td>\n",
       "      <td>d2</td>\n",
       "    </tr>\n",
       "    <tr>\n",
       "      <th>1</th>\n",
       "      <td>محاضره جامع</td>\n",
       "      <td>d1</td>\n",
       "    </tr>\n",
       "    <tr>\n",
       "      <th>2</th>\n",
       "      <td>محاضره جامع</td>\n",
       "      <td>d4</td>\n",
       "    </tr>\n",
       "  </tbody>\n",
       "</table>\n",
       "</div>"
      ],
      "text/plain": [
       "          query docno\n",
       "0   محاضره جامع    d2\n",
       "1   محاضره جامع    d1\n",
       "2   محاضره جامع    d4"
      ]
     },
     "execution_count": 105,
     "metadata": {},
     "output_type": "execute_result"
    }
   ],
   "source": [
    "model= pt.BatchRetrieve(index_ref, wmodel=\"TF_IDF\")\n",
    "docNoResult=model.search(' محاضره جامع')\n",
    "docNoResult[['query','docno']]"
   ]
  },
  {
   "cell_type": "code",
   "execution_count": 99,
   "metadata": {},
   "outputs": [
    {
     "name": "stdout",
     "output_type": "stream",
     "text": [
      "جامع قلم\n"
     ]
    },
    {
     "data": {
      "text/html": [
       "<div>\n",
       "<style scoped>\n",
       "    .dataframe tbody tr th:only-of-type {\n",
       "        vertical-align: middle;\n",
       "    }\n",
       "\n",
       "    .dataframe tbody tr th {\n",
       "        vertical-align: top;\n",
       "    }\n",
       "\n",
       "    .dataframe thead th {\n",
       "        text-align: right;\n",
       "    }\n",
       "</style>\n",
       "<table border=\"1\" class=\"dataframe\">\n",
       "  <thead>\n",
       "    <tr style=\"text-align: right;\">\n",
       "      <th></th>\n",
       "      <th>docno</th>\n",
       "      <th>raw_text</th>\n",
       "      <th>text</th>\n",
       "    </tr>\n",
       "  </thead>\n",
       "  <tbody>\n",
       "    <tr>\n",
       "      <th>1</th>\n",
       "      <td>d2</td>\n",
       "      <td>المحاضرة باللغة العربية لطلاب جامعة القلمون</td>\n",
       "      <td>محاضره لغه عربيه لطلاب جامع قلم</td>\n",
       "    </tr>\n",
       "    <tr>\n",
       "      <th>3</th>\n",
       "      <td>d4</td>\n",
       "      <td>نأمل أن تفيد هذا المقرر طلاب جامعة القلومن</td>\n",
       "      <td>نامل تفيد مقرر طلاب جامع قلوم</td>\n",
       "    </tr>\n",
       "  </tbody>\n",
       "</table>\n",
       "</div>"
      ],
      "text/plain": [
       "  docno                                     raw_text  \\\n",
       "1    d2  المحاضرة باللغة العربية لطلاب جامعة القلمون   \n",
       "3    d4   نأمل أن تفيد هذا المقرر طلاب جامعة القلومن   \n",
       "\n",
       "                              text  \n",
       "1  محاضره لغه عربيه لطلاب جامع قلم  \n",
       "3    نامل تفيد مقرر طلاب جامع قلوم  "
      ]
     },
     "execution_count": 99,
     "metadata": {},
     "output_type": "execute_result"
    }
   ],
   "source": [
    "q='جامعة القلمون'\n",
    "q=preProcessing(q)\n",
    "print(q)\n",
    "docNoResult= model.search(q)['docno'].tolist()\n",
    "docs_df[docs_df['docno'].isin(docNoResult)]"
   ]
  }
 ],
 "metadata": {
  "colab": {
   "provenance": []
  },
  "kernelspec": {
   "display_name": "Python 3 (ipykernel)",
   "language": "python",
   "name": "python3"
  },
  "language_info": {
   "codemirror_mode": {
    "name": "ipython",
    "version": 3
   },
   "file_extension": ".py",
   "mimetype": "text/x-python",
   "name": "python",
   "nbconvert_exporter": "python",
   "pygments_lexer": "ipython3",
   "version": "3.9.12"
  }
 },
 "nbformat": 4,
 "nbformat_minor": 1
}
