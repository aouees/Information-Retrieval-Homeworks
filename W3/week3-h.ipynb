{
 "cells": [
  {
   "cell_type": "markdown",
   "metadata": {},
   "source": [
    "<div  style=\"display: table; width: 100%; color: #034ea2; background:#ffffff ; line-height: 100px;  text-align: center;\" dir=\"rtl\">\n",
    "        <h2 style=\"display:table-cell;\">جامعة القلمون  </h2>\n",
    "        <h1 style=\"display:table-cell;\"> <b>👨‍💻 اويس الحمود 👨‍💻</b></h1>\n",
    "        <h2 style=\"display:table-cell;\">201811330</h2>\n",
    "    </div>"
   ]
  },
  {
   "cell_type": "code",
   "execution_count": 1,
   "metadata": {},
   "outputs": [],
   "source": [
    "# define our Boolean operators in set\n",
    "boolean_operators = {'AND', 'OR', 'AND_NOT','OR_NOT'}"
   ]
  },
  {
   "cell_type": "code",
   "execution_count": 2,
   "metadata": {},
   "outputs": [],
   "source": [
    "# implement some helper functions below\n",
    "# list of terms\n",
    "def get_terms(data):\n",
    "    terms=[ ]\n",
    "    for doc in data:\n",
    "        for term in data[doc].split() :\n",
    "            terms.append(term)\n",
    "    return terms"
   ]
  },
  {
   "cell_type": "code",
   "execution_count": 3,
   "metadata": {},
   "outputs": [],
   "source": [
    "#define a function which return list of unique terms\n",
    "def get_unique_terms(terms):\n",
    "    unique_terms=[]\n",
    "    for d in terms :\n",
    "        if d not in unique_terms:\n",
    "            unique_terms.append(d)\n",
    "    return unique_terms"
   ]
  },
  {
   "cell_type": "code",
   "execution_count": 4,
   "metadata": {},
   "outputs": [],
   "source": [
    "# define a function which return document collection terms\n",
    "def get_document_collection_terms(data):\n",
    "    docs_collection={}\n",
    "    for doc in data:\n",
    "        if doc not in boolean_operators :\n",
    "            docs_collection[doc]=get_unique_terms(data[doc].split())\n",
    "    return docs_collection"
   ]
  },
  {
   "cell_type": "code",
   "execution_count": 5,
   "metadata": {},
   "outputs": [],
   "source": [
    "def display_dict(collection):\n",
    "    for doc in collection:\n",
    "        print(doc,' : ',collection[doc])"
   ]
  },
  {
   "cell_type": "code",
   "execution_count": 6,
   "metadata": {},
   "outputs": [],
   "source": [
    "#Next, we will implement a function to build a term-document incidence matrix\n",
    "#this function takes the collection of documents in a form of dictionary as an input\n",
    "def get_incidence_matrix(collection):\n",
    "    ## list of terms from the data file collection\n",
    "    terms=get_terms(collection)\n",
    "    #list of unique terms\n",
    "    unique_terms=get_unique_terms(terms)\n",
    "    #Document collection terms\n",
    "    docs_terms=get_document_collection_terms(collection)\n",
    "    #TermDocumentIncidenceMatrix\n",
    "    term_docs_matrix={}\n",
    "    for term in unique_terms:\n",
    "        vector=[]\n",
    "        for c in docs_terms:\n",
    "            if term in docs_terms[c]:\n",
    "                vector.append(1)\n",
    "            else :\n",
    "                vector.append(0)\n",
    "        term_docs_matrix[term]=vector\n",
    "    return term_docs_matrix"
   ]
  },
  {
   "cell_type": "code",
   "execution_count": 7,
   "metadata": {},
   "outputs": [],
   "source": [
    "#this function takes a term and a terms-document incidence matrix and returns the incidence vector of the term\n",
    "#this function just for explanation and display purposes\n",
    "def get_incidence_vector(term,incidence_matrix):\n",
    "    try:\n",
    "        return incidence_matrix[term]\n",
    "    except:\n",
    "        return \"term not found\""
   ]
  },
  {
   "cell_type": "code",
   "execution_count": 8,
   "metadata": {},
   "outputs": [],
   "source": [
    "# First, we need to implement our function that splits the query to differentiate\n",
    "# between the terms and the boolean operators  and considers only boolean operators\n",
    "# defined previously and the terms available in our collection.\n",
    "# input : Query\n",
    "# output : List of terms of a given query which match with the terms in our collection\n",
    "# and the our defined boolean operators\n",
    "def query_filter(query,collection):\n",
    "    terms= get_terms(collection)\n",
    "    unique_terms=get_unique_terms(terms)\n",
    "    query_terms=[]\n",
    "    splitted_query=query.split()\n",
    "    for temp in splitted_query:\n",
    "        if temp in unique_terms or temp.upper() in boolean_operators:\n",
    "            query_terms.append(temp)\n",
    "    return query_terms"
   ]
  },
  {
   "cell_type": "code",
   "execution_count": 9,
   "metadata": {},
   "outputs": [],
   "source": [
    "# input : Boolean Operator ,Next term Incedence Vector ,Previous term Incedence Vector\n",
    "def boolean_operator_processing(bool_operator,prevV,nextV):\n",
    "    if bool_operator == \"AND\":\n",
    "        return [a & b for a, b in zip(prevV, nextV)]\n",
    "    elif bool_operator==\"OR\" :\n",
    "        return [a | b for a, b in zip(prevV, nextV)]\n",
    "    elif bool_operator == \"AND_NOT\":\n",
    "        return [a & (1-b) for a, b in zip(prevV, nextV)]\n",
    "    elif bool_operator == \"OR_NOT\":\n",
    "        return [a | (1-b) for a, b in zip(prevV, nextV)]"
   ]
  },
  {
   "cell_type": "code",
   "execution_count": 10,
   "metadata": {},
   "outputs": [],
   "source": [
    "def boolean_retrieval(query,collection):\n",
    "    print('MY Collection : ')\n",
    "    display_dict(collection)\n",
    "    print('MY Query : ',query)\n",
    "    incidence_matrix=get_incidence_matrix(collection=collection)\n",
    "    query_terms=query_filter(collection=collection,query=query)\n",
    "    print('query terms : ',query_terms)\n",
    "    res=[ 1 for i in collection]\n",
    "    op='init'\n",
    "    print('Vector terms of query : ')\n",
    "    for term in query_terms:\n",
    "        termU=term.upper()\n",
    "        if termU in boolean_operators:\n",
    "            op=termU\n",
    "        else:\n",
    "            vec=get_incidence_vector(term,incidence_matrix)\n",
    "            print(term,' : ',vec)\n",
    "            if op=='init':\n",
    "                res=boolean_operator_processing('AND',res,vec)\n",
    "            else:\n",
    "                res=boolean_operator_processing(op,res,vec)\n",
    "    result_collection={}\n",
    "    i=0\n",
    "    for key in collection:\n",
    "        if res[i]==1:\n",
    "            result_collection[key]=collection[key]\n",
    "        i+=1\n",
    "    print('Result Collection : ')\n",
    "    display_dict(result_collection)"
   ]
  },
  {
   "cell_type": "markdown",
   "metadata": {},
   "source": [
    "<h2> define collection from 5 document for test and simple query</h2>"
   ]
  },
  {
   "cell_type": "code",
   "execution_count": 11,
   "metadata": {},
   "outputs": [
    {
     "name": "stdout",
     "output_type": "stream",
     "text": [
      "MY Collection : \n",
      "doc0  :  هذا هو الدرس الأول من مقرر استرجاع المعلومات\n",
      "doc1  :  المقرر موجه لطلاب جامعة القلمون كلية الهندسة قسم تقانة المعلومات\n",
      "doc2  :  رمز المقرر هو ENIT5517 \n",
      "doc3  :  نأمل ان نقدم لكم الفائدة المرجوة\n",
      "doc4  :  نرحب بأسئلتكم و استفساراتكم \n",
      "MY Query :  مقرر OR المعلومات OR استرجاع\n",
      "query terms :  ['مقرر', 'OR', 'المعلومات', 'OR', 'استرجاع']\n",
      "Vector terms of query : \n",
      "مقرر  :  [1, 0, 0, 0, 0]\n",
      "المعلومات  :  [1, 1, 0, 0, 0]\n",
      "استرجاع  :  [1, 0, 0, 0, 0]\n",
      "Result Collection : \n",
      "doc0  :  هذا هو الدرس الأول من مقرر استرجاع المعلومات\n",
      "doc1  :  المقرر موجه لطلاب جامعة القلمون كلية الهندسة قسم تقانة المعلومات\n"
     ]
    }
   ],
   "source": [
    "d0 ='هذا هو الدرس الأول من مقرر استرجاع المعلومات'\n",
    "d1 ='المقرر موجه لطلاب جامعة القلمون كلية الهندسة قسم تقانة المعلومات'\n",
    "d2 ='رمز المقرر هو ENIT5517 '\n",
    "d3 ='نأمل ان نقدم لكم الفائدة المرجوة'\n",
    "d4 ='نرحب بأسئلتكم و استفساراتكم '\n",
    "collection = {\n",
    "\"doc0\": d0,\n",
    "\"doc1\": d1,\n",
    "\"doc2\": d2,\n",
    "\"doc3\": d3,\n",
    "\"doc4\": d4\n",
    "}\n",
    "boolean_retrieval(query='مقرر OR المعلومات OR استرجاع',collection=collection)"
   ]
  },
  {
   "cell_type": "code",
   "execution_count": 13,
   "metadata": {},
   "outputs": [
    {
     "name": "stdout",
     "output_type": "stream",
     "text": [
      "MY Collection : \n",
      "d0  :  He likes to wink , he likes to drink\n",
      "d1  :  He likes to drink and drink and drink\n",
      "d2  :  The thing he likes to drink is ink\n",
      "d3  :  The ink he likes to drink is pink\n",
      "d4  :  He likes to wink and drink pink ink\n",
      "MY Query :  wink OR pink AND ink\n",
      "query terms :  ['wink', 'OR', 'pink', 'AND', 'ink']\n",
      "Vector terms of query : \n",
      "wink  :  [1, 0, 0, 0, 1]\n",
      "pink  :  [0, 0, 0, 1, 1]\n",
      "ink  :  [0, 0, 1, 1, 1]\n",
      "Result Collection : \n",
      "d3  :  The ink he likes to drink is pink\n",
      "d4  :  He likes to wink and drink pink ink\n"
     ]
    }
   ],
   "source": [
    "d0 ='He likes to wink , he likes to drink'\n",
    "d1 ='He likes to drink and drink and drink'\n",
    "d2 ='The thing he likes to drink is ink'\n",
    "d3 ='The ink he likes to drink is pink'\n",
    "d4 ='He likes to wink and drink pink ink'\n",
    "collection = {\n",
    "\"d0\": d0,\n",
    "\"d1\": d1,\n",
    "\"d2\": d2,\n",
    "\"d3\": d3,\n",
    "\"d4\": d4\n",
    "}\n",
    "boolean_retrieval(query='wink OR pink AND ink',collection=collection)"
   ]
  },
  {
   "cell_type": "code",
   "execution_count": null,
   "metadata": {},
   "outputs": [],
   "source": []
  }
 ],
 "metadata": {
  "kernelspec": {
   "display_name": "Python 3 (ipykernel)",
   "language": "python",
   "name": "python3"
  },
  "language_info": {
   "codemirror_mode": {
    "name": "ipython",
    "version": 3
   },
   "file_extension": ".py",
   "mimetype": "text/x-python",
   "name": "python",
   "nbconvert_exporter": "python",
   "pygments_lexer": "ipython3",
   "version": "3.9.12"
  },
  "vscode": {
   "interpreter": {
    "hash": "8c141edbb05fee5a1dd76fa04e8fb11d4a19744569ad08e71a311f3ab08ee3ef"
   }
  }
 },
 "nbformat": 4,
 "nbformat_minor": 2
}
