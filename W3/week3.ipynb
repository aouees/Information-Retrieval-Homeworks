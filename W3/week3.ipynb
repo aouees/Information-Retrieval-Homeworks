{
 "cells": [
  {
   "cell_type": "code",
   "execution_count": 96,
   "metadata": {},
   "outputs": [],
   "source": [
    "d0 ='هذا هو الدرس الأول من مقرر استرجاع المعلومات'\n",
    "d1 ='المقرر موجه لطلاب جامعة القلمون كلية الهندسة قسم تقانة المعلومات'\n",
    "d2 ='رمز المقرر هو ENIT5517 '\n",
    "d3 ='نأمل ان نقدم لكم الفائدة المرجوة'\n",
    "d4 ='نرحب بأسئلتكم و استفساراتكم '\n",
    "collection = {\"doc0\": d0,\n",
    "\"doc1\": d1,\n",
    "\"doc2\": d2,\n",
    "\"doc3\": d3,\n",
    "\"doc4\": d4}"
   ]
  },
  {
   "cell_type": "code",
   "execution_count": 97,
   "metadata": {},
   "outputs": [],
   "source": [
    "# define our Boolean operators in set\n",
    "boolean_operators = {'AND', 'OR', 'NOT'}"
   ]
  },
  {
   "cell_type": "code",
   "execution_count": 98,
   "metadata": {},
   "outputs": [],
   "source": [
    "# implement some helper functions below\n",
    "# list of terms\n",
    "def get_terms(data):\n",
    "    terms=[ ]\n",
    "    for doc in data:\n",
    "        for term in data[doc].split() :\n",
    "            terms.append(term)\n",
    "    return terms"
   ]
  },
  {
   "cell_type": "code",
   "execution_count": 99,
   "metadata": {},
   "outputs": [],
   "source": [
    "#define a function which return list of unique terms\n",
    "def get_unique_terms(terms):\n",
    "    unique_terms=[]\n",
    "    for d in terms :\n",
    "        if d not in unique_terms:\n",
    "            unique_terms.append(d)\n",
    "    return unique_terms"
   ]
  },
  {
   "cell_type": "code",
   "execution_count": 100,
   "metadata": {},
   "outputs": [],
   "source": [
    "# define a function which return document collection terms\n",
    "def get_document_collection_terms(data):\n",
    "    docs_collection={}\n",
    "    for doc in data:\n",
    "        if doc not in boolean_operators :\n",
    "            docs_collection[doc]=get_unique_terms(data[doc].split())\n",
    "    return docs_collection"
   ]
  },
  {
   "cell_type": "code",
   "execution_count": 101,
   "metadata": {},
   "outputs": [
    {
     "name": "stdout",
     "output_type": "stream",
     "text": [
      "\n",
      "### Terms in 5 docs ###\n",
      " || هذا || هو || الدرس || الأول || من || مقرر || استرجاع || المعلومات || المقرر || موجه || لطلاب || جامعة || القلمون || كلية || الهندسة || قسم || تقانة || المعلومات || رمز || المقرر || هو || ENIT5517 || نأمل || ان || نقدم || لكم || الفائدة || المرجوة || نرحب || بأسئلتكم || و || استفساراتكم\n"
     ]
    }
   ],
   "source": [
    "#print the terms available in the collection\n",
    "print (\"\\n### Terms in 5 docs ###\\n\" , *get_terms(collection) ,sep= \" || \")"
   ]
  },
  {
   "cell_type": "code",
   "execution_count": 102,
   "metadata": {},
   "outputs": [
    {
     "name": "stdout",
     "output_type": "stream",
     "text": [
      "\n",
      "### Unique Terms in 5 DOCs###\n",
      " | هذا | هو | الدرس | الأول | من | مقرر | استرجاع | المعلومات | المقرر | موجه | لطلاب | جامعة | القلمون | كلية | الهندسة | قسم | تقانة | رمز | ENIT5517 | نأمل | ان | نقدم | لكم | الفائدة | المرجوة | نرحب | بأسئلتكم | و | استفساراتكم\n"
     ]
    }
   ],
   "source": [
    "#print the unique_terms available in the collection\n",
    "terms=get_terms(collection)\n",
    "print (\"\\n### Unique Terms in 5 DOCs###\\n\", *get_unique_terms(terms) ,sep=\" | \")"
   ]
  },
  {
   "cell_type": "code",
   "execution_count": 103,
   "metadata": {},
   "outputs": [],
   "source": [
    "def display_dict(collection):\n",
    "    for doc in collection:\n",
    "        print(collection[doc],' : ',doc)"
   ]
  },
  {
   "cell_type": "code",
   "execution_count": 104,
   "metadata": {},
   "outputs": [
    {
     "name": "stdout",
     "output_type": "stream",
     "text": [
      "\n",
      "###Document terms Collection ###\n",
      "['هذا', 'هو', 'الدرس', 'الأول', 'من', 'مقرر', 'استرجاع', 'المعلومات']  :  doc0\n",
      "['المقرر', 'موجه', 'لطلاب', 'جامعة', 'القلمون', 'كلية', 'الهندسة', 'قسم', 'تقانة', 'المعلومات']  :  doc1\n",
      "['رمز', 'المقرر', 'هو', 'ENIT5517']  :  doc2\n",
      "['نأمل', 'ان', 'نقدم', 'لكم', 'الفائدة', 'المرجوة']  :  doc3\n",
      "['نرحب', 'بأسئلتكم', 'و', 'استفساراتكم']  :  doc4\n"
     ]
    }
   ],
   "source": [
    "#print the unique terms in each collection in a dictionary format\n",
    "print (\"\\n###Document terms Collection ###\" )\n",
    "display_dict(get_document_collection_terms(collection))"
   ]
  },
  {
   "cell_type": "code",
   "execution_count": 105,
   "metadata": {},
   "outputs": [],
   "source": [
    "#Next, we will implement a function to build a term-document incidence matrix\n",
    "#this function takes the collection of documents in a form of dictionary as an input\n",
    "def term_document_incidence_matrix(collection):\n",
    "    ## list of terms from the data file collection\n",
    "    terms=get_terms(collection)\n",
    "    #list of unique terms\n",
    "    unique_terms=get_unique_terms(terms)\n",
    "    #Document collection terms\n",
    "    docs_terms=get_document_collection_terms(collection)\n",
    "    #TermDocumentIncidenceMatrix\n",
    "    term_docs_matrix={}\n",
    "    for term in unique_terms:\n",
    "        vector=[]\n",
    "        for c in docs_terms:\n",
    "            if term in docs_terms[c]:\n",
    "                vector.append(1)\n",
    "            else :\n",
    "                vector.append(0)\n",
    "        term_docs_matrix[term]=vector\n",
    "    return term_docs_matrix"
   ]
  },
  {
   "cell_type": "code",
   "execution_count": 106,
   "metadata": {},
   "outputs": [
    {
     "name": "stdout",
     "output_type": "stream",
     "text": [
      "Term-Document incidence Matrix\n",
      "\n",
      "[1, 0, 0, 0, 0]  :  هذا\n",
      "[1, 0, 1, 0, 0]  :  هو\n",
      "[1, 0, 0, 0, 0]  :  الدرس\n",
      "[1, 0, 0, 0, 0]  :  الأول\n",
      "[1, 0, 0, 0, 0]  :  من\n",
      "[1, 0, 0, 0, 0]  :  مقرر\n",
      "[1, 0, 0, 0, 0]  :  استرجاع\n",
      "[1, 1, 0, 0, 0]  :  المعلومات\n",
      "[0, 1, 1, 0, 0]  :  المقرر\n",
      "[0, 1, 0, 0, 0]  :  موجه\n",
      "[0, 1, 0, 0, 0]  :  لطلاب\n",
      "[0, 1, 0, 0, 0]  :  جامعة\n",
      "[0, 1, 0, 0, 0]  :  القلمون\n",
      "[0, 1, 0, 0, 0]  :  كلية\n",
      "[0, 1, 0, 0, 0]  :  الهندسة\n",
      "[0, 1, 0, 0, 0]  :  قسم\n",
      "[0, 1, 0, 0, 0]  :  تقانة\n",
      "[0, 0, 1, 0, 0]  :  رمز\n",
      "[0, 0, 1, 0, 0]  :  ENIT5517\n",
      "[0, 0, 0, 1, 0]  :  نأمل\n",
      "[0, 0, 0, 1, 0]  :  ان\n",
      "[0, 0, 0, 1, 0]  :  نقدم\n",
      "[0, 0, 0, 1, 0]  :  لكم\n",
      "[0, 0, 0, 1, 0]  :  الفائدة\n",
      "[0, 0, 0, 1, 0]  :  المرجوة\n",
      "[0, 0, 0, 0, 1]  :  نرحب\n",
      "[0, 0, 0, 0, 1]  :  بأسئلتكم\n",
      "[0, 0, 0, 0, 1]  :  و\n",
      "[0, 0, 0, 0, 1]  :  استفساراتكم\n"
     ]
    }
   ],
   "source": [
    "#this function takes a term and a terms-document incidence matrix and returns the incidence vector of the term\n",
    "#this function just for explanation and display purposes\n",
    "def term_incidence_vector(term,term_docs_incid_matrix):\n",
    "    try:\n",
    "        return term_docs_incid_matrix[term]\n",
    "    except:\n",
    "        return \"term not found\"\n",
    "#build the term-document incidence matrix\n",
    "term_docs_incid_matrix=term_document_incidence_matrix(collection)\n",
    "print(\"Term-Document incidence Matrix\\n\")\n",
    "#formatted Display\n",
    "display_dict(term_docs_incid_matrix)"
   ]
  },
  {
   "cell_type": "code",
   "execution_count": 107,
   "metadata": {},
   "outputs": [],
   "source": [
    "#First, we need to implement our function that splits the query to differentiate between the terms and the boolean operators,\n",
    "#  and considers only boolean operators defined previously and the terms available in our collection.\n",
    "#input : Query\n",
    "#output : List of terms of a given query which match with the terms in our collection and the our defined boolean operators\n",
    "def query_filteration(query,collection):\n",
    "    terms= get_terms(collection)\n",
    "    unique_terms=get_unique_terms(terms)\n",
    "    qterms=[]\n",
    "    splitted_query=query.split()\n",
    "    for qterm in splitted_query:\n",
    "        if qterm in unique_terms or qterm in boolean_operators:\n",
    "            qterms.append(qterm)\n",
    "    return qterms"
   ]
  },
  {
   "cell_type": "code",
   "execution_count": 117,
   "metadata": {},
   "outputs": [
    {
     "name": "stdout",
     "output_type": "stream",
     "text": [
      "['مقرر', 'AND', 'استرجاع', 'AND', 'المعلومات']\n"
     ]
    }
   ],
   "source": [
    "#Let's test our query filteration function.\n",
    "query=' مقرر AND استرجاع  AND المعلومات'\n",
    "qterms=query_filteration(query,collection)\n",
    "print(qterms)\n",
    "#If a term is not defined in our collection,or a boolean operator is not defined in our set of our boolean operators it will not be considered.\n",
    "#query=\" استرجاع and المعلومات AND اليمن\"\n",
    "#qterms=query_filteration(query,collection)\n",
    "#print(qterms)"
   ]
  },
  {
   "cell_type": "code",
   "execution_count": 118,
   "metadata": {},
   "outputs": [
    {
     "name": "stdout",
     "output_type": "stream",
     "text": [
      "v1 [1, 0, 0, 0, 0]\n",
      "v2 [1, 0, 0, 0, 0]\n",
      "[1, 0, 0, 0, 0]\n"
     ]
    }
   ],
   "source": [
    "# input : Boolean Operator ,Next term Incedence Vector ,Previous term Incedence Vector\n",
    "def boolean_operator_processing(bool_operator,prevV,nextV):\n",
    "    if bool_operator == \"AND\":\n",
    "        return [a & b for a, b in zip(prevV, nextV)]\n",
    "    elif bool_operator==\"OR\" :\n",
    "        return [a | b for a, b in zip(prevV, nextV)]\n",
    "    elif bool_operator == \"NOT\":\n",
    "        return [1-a for a in prevV]\n",
    "v1=term_incidence_vector( 'استرجاع',term_docs_incid_matrix)\n",
    "v2=term_incidence_vector('مقرر',term_docs_incid_matrix)\n",
    "v3=[]\n",
    "print('v1',v1)\n",
    "print('v2',v2)\n",
    "print(boolean_operator_processing(\"AND\",v1,v2))"
   ]
  },
  {
   "cell_type": "code",
   "execution_count": null,
   "metadata": {},
   "outputs": [],
   "source": []
  }
 ],
 "metadata": {
  "kernelspec": {
   "display_name": "Python 3.9.2 64-bit",
   "language": "python",
   "name": "python3"
  },
  "language_info": {
   "codemirror_mode": {
    "name": "ipython",
    "version": 3
   },
   "file_extension": ".py",
   "mimetype": "text/x-python",
   "name": "python",
   "nbconvert_exporter": "python",
   "pygments_lexer": "ipython3",
   "version": "3.9.2"
  },
  "orig_nbformat": 4,
  "vscode": {
   "interpreter": {
    "hash": "8c141edbb05fee5a1dd76fa04e8fb11d4a19744569ad08e71a311f3ab08ee3ef"
   }
  }
 },
 "nbformat": 4,
 "nbformat_minor": 2
}
